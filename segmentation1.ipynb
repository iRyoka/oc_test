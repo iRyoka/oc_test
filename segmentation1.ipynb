{
 "cells": [
  {
   "cell_type": "code",
   "execution_count": 1,
   "id": "0a15cade",
   "metadata": {},
   "outputs": [],
   "source": [
    "import data1\n",
    "import torch, torch.utils, torch.utils.data\n",
    "from unet import UNet\n",
    "from tqdm.notebook import tqdm as tqdm\n",
    "from torchsummary import summary\n",
    "import matplotlib.pyplot as plt\n",
    "import modeltools1\n",
    "import datetime\n",
    "import random\n",
    "import torchvision\n",
    "import os\n",
    "\n",
    "device = torch.device(\"cuda\")\n",
    "weights_path = \"weights-FocalLoss-30000epochs.dat\"\n",
    "out_dir = \"out1\"\n",
    "if not os.path.exists(out_dir): os.mkdir(out_dir)\n",
    "#weights_path = None"
   ]
  },
  {
   "cell_type": "code",
   "execution_count": 2,
   "id": "5be9cd65",
   "metadata": {},
   "outputs": [
    {
     "data": {
      "application/vnd.jupyter.widget-view+json": {
       "model_id": "0b87d67b251942fa9420c2d043f64d92",
       "version_major": 2,
       "version_minor": 0
      },
      "text/plain": [
       "Loading raw data: 0it [00:00, ?it/s]"
      ]
     },
     "metadata": {},
     "output_type": "display_data"
    },
    {
     "data": {
      "application/vnd.jupyter.widget-view+json": {
       "model_id": "c2727556640147779e26e184b1943f79",
       "version_major": 2,
       "version_minor": 0
      },
      "text/plain": [
       "Loading raw data: 0it [00:00, ?it/s]"
      ]
     },
     "metadata": {},
     "output_type": "display_data"
    },
    {
     "ename": "AttributeError",
     "evalue": "",
     "output_type": "error",
     "traceback": [
      "\u001b[1;31m---------------------------------------------------------------------------\u001b[0m",
      "\u001b[1;31mAttributeError\u001b[0m                            Traceback (most recent call last)",
      "\u001b[1;32m~\\AppData\\Local\\Temp/ipykernel_10688/1742336555.py\u001b[0m in \u001b[0;36m<module>\u001b[1;34m\u001b[0m\n\u001b[0;32m      6\u001b[0m \u001b[0mval_data_filename\u001b[0m \u001b[1;33m=\u001b[0m \u001b[1;34m\"idx-test.txt\"\u001b[0m\u001b[1;33m\u001b[0m\u001b[1;33m\u001b[0m\u001b[0m\n\u001b[0;32m      7\u001b[0m \u001b[0mdataset_val\u001b[0m \u001b[1;33m=\u001b[0m \u001b[0mdata1\u001b[0m\u001b[1;33m.\u001b[0m\u001b[0mDataset\u001b[0m\u001b[1;33m(\u001b[0m\u001b[0mval_data_dir\u001b[0m\u001b[1;33m,\u001b[0m \u001b[0mval_data_filename\u001b[0m\u001b[1;33m)\u001b[0m\u001b[1;33m\u001b[0m\u001b[1;33m\u001b[0m\u001b[0m\n\u001b[1;32m----> 8\u001b[1;33m \u001b[0mdataset_val\u001b[0m\u001b[1;33m.\u001b[0m\u001b[0mval\u001b[0m\u001b[1;33m(\u001b[0m\u001b[1;33m)\u001b[0m\u001b[1;33m\u001b[0m\u001b[1;33m\u001b[0m\u001b[0m\n\u001b[0m\u001b[0;32m      9\u001b[0m \u001b[1;33m\u001b[0m\u001b[0m\n\u001b[0;32m     10\u001b[0m dataloader_train = torch.utils.data.DataLoader(dataset_train, batch_size = 4, num_workers=1, \n",
      "\u001b[1;32m~\\anaconda3\\lib\\site-packages\\torch\\utils\\data\\dataset.py\u001b[0m in \u001b[0;36m__getattr__\u001b[1;34m(self, attribute_name)\u001b[0m\n\u001b[0;32m     81\u001b[0m             \u001b[1;32mreturn\u001b[0m \u001b[0mfunction\u001b[0m\u001b[1;33m\u001b[0m\u001b[1;33m\u001b[0m\u001b[0m\n\u001b[0;32m     82\u001b[0m         \u001b[1;32melse\u001b[0m\u001b[1;33m:\u001b[0m\u001b[1;33m\u001b[0m\u001b[1;33m\u001b[0m\u001b[0m\n\u001b[1;32m---> 83\u001b[1;33m             \u001b[1;32mraise\u001b[0m \u001b[0mAttributeError\u001b[0m\u001b[1;33m\u001b[0m\u001b[1;33m\u001b[0m\u001b[0m\n\u001b[0m\u001b[0;32m     84\u001b[0m \u001b[1;33m\u001b[0m\u001b[0m\n\u001b[0;32m     85\u001b[0m     \u001b[1;33m@\u001b[0m\u001b[0mclassmethod\u001b[0m\u001b[1;33m\u001b[0m\u001b[1;33m\u001b[0m\u001b[0m\n",
      "\u001b[1;31mAttributeError\u001b[0m: "
     ]
    }
   ],
   "source": [
    "train_data_dir = \"../01_image_segmentation1/01_train\"\n",
    "train_data_filename = \"idx-train.txt\" #should change to _orig?\n",
    "dataset_train = data1.Dataset(train_data_dir, train_data_filename)\n",
    "\n",
    "val_data_dir = \"../01_image_segmentation1/02_test_clean\"\n",
    "val_data_filename = \"idx-test.txt\"\n",
    "dataset_val = data1.Dataset(val_data_dir, val_data_filename)\n",
    "dataset_val.eval()\n",
    "\n",
    "dataloader_train = torch.utils.data.DataLoader(dataset_train, batch_size = 4, num_workers=1, \n",
    "    pin_memory=True, persistent_workers=True)\n",
    "\n",
    "dataloader_val = torch.utils.data.DataLoader(dataset_train, batch_size = 4, num_workers=1, \n",
    "    pin_memory=True, persistent_workers=True)"
   ]
  },
  {
   "cell_type": "code",
   "execution_count": null,
   "id": "85befb02",
   "metadata": {},
   "outputs": [
    {
     "name": "stdout",
     "output_type": "stream",
     "text": [
      "----------------------------------------------------------------\n",
      "        Layer (type)               Output Shape         Param #\n",
      "================================================================\n",
      "            Conv2d-1         [-1, 32, 128, 128]             896\n",
      "              ReLU-2         [-1, 32, 128, 128]               0\n",
      "       BatchNorm2d-3         [-1, 32, 128, 128]              64\n",
      "            Conv2d-4         [-1, 32, 128, 128]           9,248\n",
      "              ReLU-5         [-1, 32, 128, 128]               0\n",
      "       BatchNorm2d-6         [-1, 32, 128, 128]              64\n",
      "         MaxPool2d-7           [-1, 32, 64, 64]               0\n",
      "         DownBlock-8  [[-1, 32, 64, 64], [-1, 32, 128, 128]]               0\n",
      "            Conv2d-9           [-1, 64, 64, 64]          18,496\n",
      "             ReLU-10           [-1, 64, 64, 64]               0\n",
      "      BatchNorm2d-11           [-1, 64, 64, 64]             128\n",
      "           Conv2d-12           [-1, 64, 64, 64]          36,928\n",
      "             ReLU-13           [-1, 64, 64, 64]               0\n",
      "      BatchNorm2d-14           [-1, 64, 64, 64]             128\n",
      "        MaxPool2d-15           [-1, 64, 32, 32]               0\n",
      "        DownBlock-16  [[-1, 64, 32, 32], [-1, 64, 64, 64]]               0\n",
      "           Conv2d-17          [-1, 128, 32, 32]          73,856\n",
      "             ReLU-18          [-1, 128, 32, 32]               0\n",
      "      BatchNorm2d-19          [-1, 128, 32, 32]             256\n",
      "           Conv2d-20          [-1, 128, 32, 32]         147,584\n",
      "             ReLU-21          [-1, 128, 32, 32]               0\n",
      "      BatchNorm2d-22          [-1, 128, 32, 32]             256\n",
      "        MaxPool2d-23          [-1, 128, 16, 16]               0\n",
      "        DownBlock-24  [[-1, 128, 16, 16], [-1, 128, 32, 32]]               0\n",
      "           Conv2d-25          [-1, 256, 16, 16]         295,168\n",
      "             ReLU-26          [-1, 256, 16, 16]               0\n",
      "      BatchNorm2d-27          [-1, 256, 16, 16]             512\n",
      "           Conv2d-28          [-1, 256, 16, 16]         590,080\n",
      "             ReLU-29          [-1, 256, 16, 16]               0\n",
      "      BatchNorm2d-30          [-1, 256, 16, 16]             512\n",
      "        DownBlock-31  [[-1, 256, 16, 16], [-1, 256, 16, 16]]               0\n",
      "  ConvTranspose2d-32          [-1, 128, 32, 32]         131,200\n",
      "             ReLU-33          [-1, 128, 32, 32]               0\n",
      "      BatchNorm2d-34          [-1, 128, 32, 32]             256\n",
      "      Concatenate-35          [-1, 256, 32, 32]               0\n",
      "           Conv2d-36          [-1, 128, 32, 32]         295,040\n",
      "             ReLU-37          [-1, 128, 32, 32]               0\n",
      "      BatchNorm2d-38          [-1, 128, 32, 32]             256\n",
      "           Conv2d-39          [-1, 128, 32, 32]         147,584\n",
      "             ReLU-40          [-1, 128, 32, 32]               0\n",
      "      BatchNorm2d-41          [-1, 128, 32, 32]             256\n",
      "          UpBlock-42          [-1, 128, 32, 32]               0\n",
      "  ConvTranspose2d-43           [-1, 64, 64, 64]          32,832\n",
      "             ReLU-44           [-1, 64, 64, 64]               0\n",
      "      BatchNorm2d-45           [-1, 64, 64, 64]             128\n",
      "      Concatenate-46          [-1, 128, 64, 64]               0\n",
      "           Conv2d-47           [-1, 64, 64, 64]          73,792\n",
      "             ReLU-48           [-1, 64, 64, 64]               0\n",
      "      BatchNorm2d-49           [-1, 64, 64, 64]             128\n",
      "           Conv2d-50           [-1, 64, 64, 64]          36,928\n",
      "             ReLU-51           [-1, 64, 64, 64]               0\n",
      "      BatchNorm2d-52           [-1, 64, 64, 64]             128\n",
      "          UpBlock-53           [-1, 64, 64, 64]               0\n",
      "  ConvTranspose2d-54         [-1, 32, 128, 128]           8,224\n",
      "             ReLU-55         [-1, 32, 128, 128]               0\n",
      "      BatchNorm2d-56         [-1, 32, 128, 128]              64\n",
      "      Concatenate-57         [-1, 64, 128, 128]               0\n",
      "           Conv2d-58         [-1, 32, 128, 128]          18,464\n",
      "             ReLU-59         [-1, 32, 128, 128]               0\n",
      "      BatchNorm2d-60         [-1, 32, 128, 128]              64\n",
      "           Conv2d-61         [-1, 32, 128, 128]           9,248\n",
      "             ReLU-62         [-1, 32, 128, 128]               0\n",
      "      BatchNorm2d-63         [-1, 32, 128, 128]              64\n",
      "          UpBlock-64         [-1, 32, 128, 128]               0\n",
      "           Conv2d-65          [-1, 3, 128, 128]              99\n",
      "================================================================\n",
      "Total params: 1,928,931\n",
      "Trainable params: 1,928,931\n",
      "Non-trainable params: 0\n",
      "----------------------------------------------------------------\n",
      "Input size (MB): 0.19\n",
      "Forward/backward pass size (MB): 131.12\n",
      "Params size (MB): 7.36\n",
      "Estimated Total Size (MB): 138.67\n",
      "----------------------------------------------------------------\n"
     ]
    }
   ],
   "source": [
    "model = UNet(in_channels = 3, out_channels=3, n_blocks = 4).to(device)\n",
    "#uncomment to check the model summary\n",
    "summary(model, (3, 128, 128))"
   ]
  },
  {
   "cell_type": "code",
   "execution_count": null,
   "id": "aa89742d",
   "metadata": {},
   "outputs": [],
   "source": [
    "lr = 0.01\n",
    "optim_params = model.parameters()\n",
    "optim = torch.optim.Adam(optim_params, lr=lr)\n",
    "# loss = torch.nn.CrossEntropyLoss()\n",
    "loss = modeltools1.FocalLoss(reduction=\"mean\")\n",
    "scheduler = torch.optim.lr_scheduler.ExponentialLR(optim, gamma =0.9999)#gamma=0.997)"
   ]
  },
  {
   "cell_type": "code",
   "execution_count": null,
   "id": "46c050f5",
   "metadata": {},
   "outputs": [],
   "source": [
    "losses = []\n",
    "if (\"weights_path\" in locals() or \"weights_path\" in globals()) and weights_path:\n",
    "    model.load_state_dict(torch.load(weights_path))\n",
    "else:\n",
    "    modeltools1.train_model(model, loss, optim, scheduler, dataloader_train,\n",
    "        num_epochs = 1000, device = device) #30 000 takes one hour and suffices\n",
    "    model.cpu()\n",
    "    current_time = datetime.datetime.now().strftime(\"%Y-%m-%d-%H-%M-%S\")\n",
    "    torch.save(model.state_dict(), './weights'+current_time+\".dat\")"
   ]
  },
  {
   "cell_type": "code",
   "execution_count": null,
   "id": "b8ec68c1",
   "metadata": {},
   "outputs": [],
   "source": [
    "# dataset_train.eval()\n",
    "# image = dataset_train[0][0]\n",
    "# label = dataset_train[0][1]\n",
    "# label_masks = modeltools1.classes_to_masks(label)\n",
    "\n",
    "\n",
    "# model.cuda()\n",
    "\n",
    "# prediction = modeltools1.tiled_eval(model, image, 16, (128,128), (64,64), device, device)"
   ]
  },
  {
   "cell_type": "code",
   "execution_count": null,
   "id": "a56b37c0",
   "metadata": {},
   "outputs": [],
   "source": [
    "# pred_mask = modeltools1.logits_to_masks(prediction)\n",
    "# masked = modeltools1.apply_mask(image, pred_mask, colors=modeltools1.DEFAULT_OVERLAY_COLORS, alpha=0.3)\n",
    "# torchvision.io.write_png(masked, out_dir+\"/test.png\")\n",
    "# score = modeltools1.F1_score(pred_mask, label_masks)"
   ]
  },
  {
   "cell_type": "code",
   "execution_count": null,
   "id": "78df8c1f",
   "metadata": {},
   "outputs": [
    {
     "data": {
      "application/vnd.jupyter.widget-view+json": {
       "model_id": "9156115fe92d4fc6a13148ff53d8c26e",
       "version_major": 2,
       "version_minor": 0
      },
      "text/plain": [
       "Images in dataset:   0%|          | 0/4 [00:00<?, ?it/s]"
      ]
     },
     "metadata": {},
     "output_type": "display_data"
    },
    {
     "data": {
      "application/vnd.jupyter.widget-view+json": {
       "model_id": "8a65cbf9c81643acae2cbe8dd29aeb76",
       "version_major": 2,
       "version_minor": 0
      },
      "text/plain": [
       "  0%|          | 0/1 [00:00<?, ?it/s]"
      ]
     },
     "metadata": {},
     "output_type": "display_data"
    },
    {
     "name": "stdout",
     "output_type": "stream",
     "text": [
      "Score:  0.9896859028681583\n"
     ]
    },
    {
     "data": {
      "application/vnd.jupyter.widget-view+json": {
       "model_id": "b8783efcaa054d7cb49928c41ff30377",
       "version_major": 2,
       "version_minor": 0
      },
      "text/plain": [
       "  0%|          | 0/1 [00:00<?, ?it/s]"
      ]
     },
     "metadata": {},
     "output_type": "display_data"
    },
    {
     "name": "stdout",
     "output_type": "stream",
     "text": [
      "Score:  0.9756355753103113\n"
     ]
    },
    {
     "data": {
      "application/vnd.jupyter.widget-view+json": {
       "model_id": "277c9c747d9e472d888e73c07be094f7",
       "version_major": 2,
       "version_minor": 0
      },
      "text/plain": [
       "  0%|          | 0/1 [00:00<?, ?it/s]"
      ]
     },
     "metadata": {},
     "output_type": "display_data"
    },
    {
     "name": "stdout",
     "output_type": "stream",
     "text": [
      "Score:  0.9884495924530853\n"
     ]
    },
    {
     "data": {
      "application/vnd.jupyter.widget-view+json": {
       "model_id": "794703e705be4820ab4ff3882920c6d7",
       "version_major": 2,
       "version_minor": 0
      },
      "text/plain": [
       "  0%|          | 0/1 [00:00<?, ?it/s]"
      ]
     },
     "metadata": {},
     "output_type": "display_data"
    },
    {
     "name": "stdout",
     "output_type": "stream",
     "text": [
      "Score:  0.979255389288355\n",
      "Average F1 score on train set: 0.9832566149799775\n"
     ]
    }
   ],
   "source": [
    "\n",
    "dataset_train.eval()\n",
    "total_score = modeltools1.eval_on_dataset(model, dataset_train, out_dir+\"/train\", 8,\n",
    "    (128,128), (64,64), device, device, [])\n",
    "\n",
    "print(f\"Average F1 score on train set: {total_score}\")"
   ]
  },
  {
   "cell_type": "code",
   "execution_count": null,
   "id": "5884bf94",
   "metadata": {},
   "outputs": [
    {
     "data": {
      "application/vnd.jupyter.widget-view+json": {
       "model_id": "6a0aeec4cf78483b8a98cbdae9f43d05",
       "version_major": 2,
       "version_minor": 0
      },
      "text/plain": [
       "Images in dataset:   0%|          | 0/4 [00:00<?, ?it/s]"
      ]
     },
     "metadata": {},
     "output_type": "display_data"
    },
    {
     "data": {
      "application/vnd.jupyter.widget-view+json": {
       "model_id": "c7968151bc2b4df589a59845137d7a73",
       "version_major": 2,
       "version_minor": 0
      },
      "text/plain": [
       "  0%|          | 0/1 [00:00<?, ?it/s]"
      ]
     },
     "metadata": {},
     "output_type": "display_data"
    },
    {
     "name": "stdout",
     "output_type": "stream",
     "text": [
      "Score:  0.9868730022347889\n"
     ]
    },
    {
     "data": {
      "application/vnd.jupyter.widget-view+json": {
       "model_id": "43b52a81e0044acea8c2489402b684b8",
       "version_major": 2,
       "version_minor": 0
      },
      "text/plain": [
       "  0%|          | 0/1 [00:00<?, ?it/s]"
      ]
     },
     "metadata": {},
     "output_type": "display_data"
    },
    {
     "name": "stdout",
     "output_type": "stream",
     "text": [
      "Score:  0.6543010512349633\n"
     ]
    },
    {
     "data": {
      "application/vnd.jupyter.widget-view+json": {
       "model_id": "c416d8f896c04163ac29067af2a56582",
       "version_major": 2,
       "version_minor": 0
      },
      "text/plain": [
       "  0%|          | 0/1 [00:00<?, ?it/s]"
      ]
     },
     "metadata": {},
     "output_type": "display_data"
    },
    {
     "name": "stdout",
     "output_type": "stream",
     "text": [
      "Score:  0.9848253238730399\n"
     ]
    },
    {
     "data": {
      "application/vnd.jupyter.widget-view+json": {
       "model_id": "615bf807dae449cd9a1296d46ca75fae",
       "version_major": 2,
       "version_minor": 0
      },
      "text/plain": [
       "  0%|          | 0/1 [00:00<?, ?it/s]"
      ]
     },
     "metadata": {},
     "output_type": "display_data"
    },
    {
     "name": "stdout",
     "output_type": "stream",
     "text": [
      "Score:  0.9862564513661655\n",
      "Average F1 score on val set: 0.9030639571772393\n"
     ]
    }
   ],
   "source": [
    "total_score = modeltools1.eval_on_dataset(model, dataset_val, out_dir+\"/val\", 8,\n",
    "    (128,128), (64,64), device, device, [])\n",
    "\n",
    "print(f\"Average F1 score on val set: {total_score}\")"
   ]
  },
  {
   "cell_type": "code",
   "execution_count": null,
   "id": "4e00477b",
   "metadata": {},
   "outputs": [
    {
     "data": {
      "text/plain": [
       "0.9030639571772393"
      ]
     },
     "execution_count": 10,
     "metadata": {},
     "output_type": "execute_result"
    }
   ],
   "source": [
    "total_score"
   ]
  },
  {
   "cell_type": "code",
   "execution_count": null,
   "id": "68dfe85f",
   "metadata": {},
   "outputs": [],
   "source": []
  }
 ],
 "metadata": {
  "kernelspec": {
   "display_name": "Python 3 (ipykernel)",
   "language": "python",
   "name": "python3"
  },
  "language_info": {
   "codemirror_mode": {
    "name": "ipython",
    "version": 3
   },
   "file_extension": ".py",
   "mimetype": "text/x-python",
   "name": "python",
   "nbconvert_exporter": "python",
   "pygments_lexer": "ipython3",
   "version": "3.9.7"
  }
 },
 "nbformat": 4,
 "nbformat_minor": 5
}
